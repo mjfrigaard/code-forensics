{
 "cells": [
  {
   "cell_type": "markdown",
   "metadata": {},
   "source": [
    "# Python Tech Debt Analysis\n",
    "\n",
    "Martin Frigaard"
   ]
  },
  {
   "cell_type": "markdown",
   "metadata": {},
   "source": [
    "This Notebook covers the implementation of the Python portion of the Tornhill books:\n",
    "\n"
   ]
  },
  {
   "cell_type": "code",
   "execution_count": 1,
   "metadata": {},
   "outputs": [
    {
     "name": "stderr",
     "output_type": "stream",
     "text": [
      "── \u001b[1mAttaching packages\u001b[22m ─────────────────────────────────────── tidyverse 1.3.0 ──\n",
      "\n",
      "\u001b[32m✔\u001b[39m \u001b[34mggplot2\u001b[39m 3.2.1     \u001b[32m✔\u001b[39m \u001b[34mpurrr  \u001b[39m 0.3.3\n",
      "\u001b[32m✔\u001b[39m \u001b[34mtibble \u001b[39m 2.1.3     \u001b[32m✔\u001b[39m \u001b[34mdplyr  \u001b[39m 0.8.3\n",
      "\u001b[32m✔\u001b[39m \u001b[34mtidyr  \u001b[39m 1.0.0     \u001b[32m✔\u001b[39m \u001b[34mstringr\u001b[39m 1.4.0\n",
      "\u001b[32m✔\u001b[39m \u001b[34mreadr  \u001b[39m 1.3.1     \u001b[32m✔\u001b[39m \u001b[34mforcats\u001b[39m 0.4.0\n",
      "\n",
      "── \u001b[1mConflicts\u001b[22m ────────────────────────────────────────── tidyverse_conflicts() ──\n",
      "\u001b[31m✖\u001b[39m \u001b[34mdplyr\u001b[39m::\u001b[32mfilter()\u001b[39m masks \u001b[34mstats\u001b[39m::filter()\n",
      "\u001b[31m✖\u001b[39m \u001b[34mdplyr\u001b[39m::\u001b[32mlag()\u001b[39m    masks \u001b[34mstats\u001b[39m::lag()\n",
      "\n",
      "\n",
      "Attaching package: ‘plotly’\n",
      "\n",
      "\n",
      "The following object is masked from ‘package:ggplot2’:\n",
      "\n",
      "    last_plot\n",
      "\n",
      "\n",
      "The following object is masked from ‘package:stats’:\n",
      "\n",
      "    filter\n",
      "\n",
      "\n",
      "The following object is masked from ‘package:graphics’:\n",
      "\n",
      "    layout\n",
      "\n",
      "\n",
      "Loading required package: janitor\n",
      "\n",
      "\n",
      "Attaching package: ‘janitor’\n",
      "\n",
      "\n",
      "The following objects are masked from ‘package:stats’:\n",
      "\n",
      "    chisq.test, fisher.test\n",
      "\n",
      "\n",
      "Loading required package: skimr\n",
      "\n",
      "Loading required package: lattice\n",
      "\n",
      "Loading required package: ggformula\n",
      "\n",
      "Loading required package: ggstance\n",
      "\n",
      "\n",
      "Attaching package: ‘ggstance’\n",
      "\n",
      "\n",
      "The following objects are masked from ‘package:ggplot2’:\n",
      "\n",
      "    geom_errorbarh, GeomErrorbarh\n",
      "\n",
      "\n",
      "\n",
      "New to ggformula?  Try the tutorials: \n",
      "\tlearnr::run_tutorial(\"introduction\", package = \"ggformula\")\n",
      "\tlearnr::run_tutorial(\"refining\", package = \"ggformula\")\n",
      "\n",
      "Loading required package: mosaicData\n",
      "\n",
      "Loading required package: Matrix\n",
      "\n",
      "\n",
      "Attaching package: ‘Matrix’\n",
      "\n",
      "\n",
      "The following objects are masked from ‘package:tidyr’:\n",
      "\n",
      "    expand, pack, unpack\n",
      "\n",
      "\n",
      "Registered S3 method overwritten by 'mosaic':\n",
      "  method                           from   \n",
      "  fortify.SpatialPolygonsDataFrame ggplot2\n",
      "\n",
      "\n",
      "The 'mosaic' package masks several functions from core packages in order to add \n",
      "additional features.  The original behavior of these functions should not be affected by this.\n",
      "\n",
      "Note: If you use the Matrix package, be sure to load it BEFORE loading mosaic.\n",
      "\n",
      "\n",
      "Attaching package: ‘mosaic’\n",
      "\n",
      "\n",
      "The following object is masked from ‘package:Matrix’:\n",
      "\n",
      "    mean\n",
      "\n",
      "\n",
      "The following object is masked from ‘package:skimr’:\n",
      "\n",
      "    n_missing\n",
      "\n",
      "\n",
      "The following object is masked from ‘package:plotly’:\n",
      "\n",
      "    do\n",
      "\n",
      "\n",
      "The following objects are masked from ‘package:dplyr’:\n",
      "\n",
      "    count, do, tally\n",
      "\n",
      "\n",
      "The following object is masked from ‘package:purrr’:\n",
      "\n",
      "    cross\n",
      "\n",
      "\n",
      "The following object is masked from ‘package:ggplot2’:\n",
      "\n",
      "    stat\n",
      "\n",
      "\n",
      "The following objects are masked from ‘package:stats’:\n",
      "\n",
      "    binom.test, cor, cor.test, cov, fivenum, IQR, median, prop.test,\n",
      "    quantile, sd, t.test, var\n",
      "\n",
      "\n",
      "The following objects are masked from ‘package:base’:\n",
      "\n",
      "    max, mean, min, prod, range, sample, sum\n",
      "\n",
      "\n",
      "NOTE: Either Arial Narrow or Roboto Condensed fonts are required to use these themes.\n",
      "\n",
      "      Please use hrbrthemes::import_roboto_condensed() to install Roboto Condensed and\n",
      "\n",
      "      if Arial Narrow is not on your system, please see http://bit.ly/arialnarrow\n",
      "\n",
      "\n",
      "Attaching package: ‘gcookbook’\n",
      "\n",
      "\n",
      "The following object is masked from ‘package:plotly’:\n",
      "\n",
      "    wind\n",
      "\n",
      "\n"
     ]
    }
   ],
   "source": [
    "library(tidyverse)\n",
    "library(knitr)\n",
    "library(rmdformats)\n",
    "library(plotly)\n",
    "require(janitor)\n",
    "require(skimr)\n",
    "library(mosaic)\n",
    "library(inspectdf)\n",
    "library(visdat)\n",
    "library(DT)\n",
    "library(formatR)\n",
    "library(hrbrthemes)\n",
    "library(gcookbook)\n",
    "library(stringi)\n",
    "library(ggbeeswarm)"
   ]
  },
  {
   "cell_type": "markdown",
   "metadata": {},
   "source": [
    "Now we check to make sure everything works."
   ]
  },
  {
   "cell_type": "code",
   "execution_count": 2,
   "metadata": {
    "scrolled": true
   },
   "outputs": [
    {
     "data": {
      "text/plain": [
       "\u001b[34m\u001b[31m⬢\u001b[34m __  _    __   \u001b[33m.\u001b[34m    \u001b[32m⬡\u001b[34m           \u001b[35m⬢\u001b[34m  \u001b[36m.\u001b[34m \u001b[39m\n",
       "\u001b[34m / /_(_)__/ /_ ___  _____ _______ ___ \u001b[39m\n",
       "\u001b[34m/ __/ / _  / // / |/ / -_) __(_-</ -_)\u001b[39m\n",
       "\u001b[34m\\__/_/\\_,_/\\_, /|___/\\__/_/ /___/\\__/ \u001b[39m\n",
       "\u001b[34m     \u001b[33m⬢\u001b[34m  \u001b[32m.\u001b[34m /___/      \u001b[37m⬡\u001b[34m      \u001b[35m.\u001b[34m       \u001b[36m⬢\u001b[34m \u001b[39m"
      ]
     },
     "metadata": {},
     "output_type": "display_data"
    }
   ],
   "source": [
    "tidyverse::tidyverse_logo()"
   ]
  },
  {
   "cell_type": "markdown",
   "metadata": {},
   "source": [
    "## Load the data"
   ]
  },
  {
   "cell_type": "code",
   "execution_count": null,
   "metadata": {},
   "outputs": [],
   "source": []
  }
 ],
 "metadata": {
  "kernelspec": {
   "display_name": "R",
   "language": "R",
   "name": "ir"
  },
  "language_info": {
   "codemirror_mode": "r",
   "file_extension": ".r",
   "mimetype": "text/x-r-source",
   "name": "R",
   "pygments_lexer": "r",
   "version": "3.6.1"
  }
 },
 "nbformat": 4,
 "nbformat_minor": 4
}
